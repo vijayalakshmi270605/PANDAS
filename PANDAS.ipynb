{
 "cells": [
  {
   "cell_type": "raw",
   "id": "1b6a95df",
   "metadata": {},
   "source": [
    "what is pandas?\n",
    "data manipulation and analysis\n",
    "data mining library build on python \n",
    "offers\n",
    "    data structures\n",
    "    operation for manipulating numerical tables\n",
    "    various formats\n",
    "    merging and joining datasets\n",
    "    time series and more"
   ]
  },
  {
   "cell_type": "raw",
   "id": "b83f4572",
   "metadata": {},
   "source": [
    "data:\n",
    "    inputs from the environments\n",
    "    it is an unprocessed facts\n",
    "types:\n",
    "    primary-person to person\n",
    "    secondary-already pervious data \n",
    "best-structured data"
   ]
  },
  {
   "cell_type": "raw",
   "id": "6fb8c99a",
   "metadata": {},
   "source": [
    "series:\n",
    "    one dimensional labelled array\n",
    "    holding any data type\n",
    "    size is immutable\n",
    "    values are mutable\n",
    "    nothing but a column in excel"
   ]
  },
  {
   "cell_type": "raw",
   "id": "623b5af3",
   "metadata": {},
   "source": [
    "data frame:\n",
    "    two dimensional labelled array\n",
    "    data allingned in tabular form\n",
    "    size is mutable\n",
    "    values are mutable\n",
    "    combining two or more series"
   ]
  },
  {
   "cell_type": "code",
   "execution_count": 1,
   "id": "410cc962",
   "metadata": {},
   "outputs": [],
   "source": [
    "#pip install pandas"
   ]
  },
  {
   "cell_type": "code",
   "execution_count": 2,
   "id": "0ee7bd0e",
   "metadata": {},
   "outputs": [],
   "source": [
    "import pandas as pd"
   ]
  },
  {
   "cell_type": "code",
   "execution_count": 3,
   "id": "4d57ccfe",
   "metadata": {},
   "outputs": [
    {
     "data": {
      "text/plain": [
       "'2.2.2'"
      ]
     },
     "execution_count": 3,
     "metadata": {},
     "output_type": "execute_result"
    }
   ],
   "source": [
    "pd.__version__"
   ]
  },
  {
   "cell_type": "code",
   "execution_count": 4,
   "id": "b466f6d5",
   "metadata": {},
   "outputs": [],
   "source": [
    "#pip install --upgrade pandas --user"
   ]
  },
  {
   "cell_type": "code",
   "execution_count": 5,
   "id": "9525365e",
   "metadata": {},
   "outputs": [],
   "source": [
    "#pd.__version__"
   ]
  },
  {
   "cell_type": "markdown",
   "id": "4635fd92",
   "metadata": {},
   "source": [
    "## ***SERIES***"
   ]
  },
  {
   "cell_type": "code",
   "execution_count": 6,
   "id": "10dfd893",
   "metadata": {},
   "outputs": [],
   "source": [
    "s1=pd.Series([1,2,3,4,'five'],index=['a','b','c','d','e'])"
   ]
  },
  {
   "cell_type": "code",
   "execution_count": 7,
   "id": "755023b3",
   "metadata": {},
   "outputs": [
    {
     "name": "stdout",
     "output_type": "stream",
     "text": [
      "a       1\n",
      "b       2\n",
      "c       3\n",
      "d       4\n",
      "e    five\n",
      "dtype: object\n"
     ]
    }
   ],
   "source": [
    "print(s1)"
   ]
  },
  {
   "cell_type": "code",
   "execution_count": 16,
   "id": "d002bd90",
   "metadata": {},
   "outputs": [],
   "source": [
    "s2=pd.Series(['v','i','j','a','y','a','vijaya'],index=[1,2,3,4,5,6,7])"
   ]
  },
  {
   "cell_type": "code",
   "execution_count": 17,
   "id": "5256e0a9",
   "metadata": {
    "scrolled": true
   },
   "outputs": [
    {
     "name": "stdout",
     "output_type": "stream",
     "text": [
      "1         v\n",
      "2         i\n",
      "3         j\n",
      "4         a\n",
      "5         y\n",
      "6         a\n",
      "7    vijaya\n",
      "dtype: object\n"
     ]
    }
   ],
   "source": [
    "print(s2)"
   ]
  },
  {
   "cell_type": "code",
   "execution_count": 22,
   "id": "0d650b36",
   "metadata": {},
   "outputs": [],
   "source": [
    "s3=pd.Series([\"All purpose\",\"stastical\",\"base\",\"app\",\"web\",\"ai\",\"ml\"],index=[1,2,3,4,5,6,7])"
   ]
  },
  {
   "cell_type": "code",
   "execution_count": 23,
   "id": "27d35628",
   "metadata": {},
   "outputs": [
    {
     "data": {
      "text/plain": [
       "1    All purpose\n",
       "2      stastical\n",
       "3           base\n",
       "4            app\n",
       "5            web\n",
       "6             ai\n",
       "7             ml\n",
       "dtype: object"
      ]
     },
     "execution_count": 23,
     "metadata": {},
     "output_type": "execute_result"
    }
   ],
   "source": [
    "s3"
   ]
  },
  {
   "cell_type": "markdown",
   "id": "fce1d06e",
   "metadata": {},
   "source": [
    "## ***DATA FRAME***"
   ]
  },
  {
   "cell_type": "markdown",
   "id": "fd7d7d93",
   "metadata": {},
   "source": [
    "### ***variable_name=pd.DataFrame(data,column=[column name])***"
   ]
  },
  {
   "cell_type": "code",
   "execution_count": 24,
   "id": "4680c82f",
   "metadata": {},
   "outputs": [],
   "source": [
    "df1=pd.DataFrame(s2,columns=['values'])"
   ]
  },
  {
   "cell_type": "code",
   "execution_count": 25,
   "id": "786242f7",
   "metadata": {},
   "outputs": [
    {
     "data": {
      "text/html": [
       "<div>\n",
       "<style scoped>\n",
       "    .dataframe tbody tr th:only-of-type {\n",
       "        vertical-align: middle;\n",
       "    }\n",
       "\n",
       "    .dataframe tbody tr th {\n",
       "        vertical-align: top;\n",
       "    }\n",
       "\n",
       "    .dataframe thead th {\n",
       "        text-align: right;\n",
       "    }\n",
       "</style>\n",
       "<table border=\"1\" class=\"dataframe\">\n",
       "  <thead>\n",
       "    <tr style=\"text-align: right;\">\n",
       "      <th></th>\n",
       "      <th>values</th>\n",
       "    </tr>\n",
       "  </thead>\n",
       "  <tbody>\n",
       "    <tr>\n",
       "      <th>1</th>\n",
       "      <td>v</td>\n",
       "    </tr>\n",
       "    <tr>\n",
       "      <th>2</th>\n",
       "      <td>i</td>\n",
       "    </tr>\n",
       "    <tr>\n",
       "      <th>3</th>\n",
       "      <td>j</td>\n",
       "    </tr>\n",
       "    <tr>\n",
       "      <th>4</th>\n",
       "      <td>a</td>\n",
       "    </tr>\n",
       "    <tr>\n",
       "      <th>5</th>\n",
       "      <td>y</td>\n",
       "    </tr>\n",
       "    <tr>\n",
       "      <th>6</th>\n",
       "      <td>a</td>\n",
       "    </tr>\n",
       "    <tr>\n",
       "      <th>7</th>\n",
       "      <td>vijaya</td>\n",
       "    </tr>\n",
       "  </tbody>\n",
       "</table>\n",
       "</div>"
      ],
      "text/plain": [
       "   values\n",
       "1       v\n",
       "2       i\n",
       "3       j\n",
       "4       a\n",
       "5       y\n",
       "6       a\n",
       "7  vijaya"
      ]
     },
     "execution_count": 25,
     "metadata": {},
     "output_type": "execute_result"
    }
   ],
   "source": [
    "df1"
   ]
  },
  {
   "cell_type": "code",
   "execution_count": 26,
   "id": "563fb665",
   "metadata": {},
   "outputs": [],
   "source": [
    "df1[\"usage\"]=s3"
   ]
  },
  {
   "cell_type": "code",
   "execution_count": 27,
   "id": "c0d95ef9",
   "metadata": {},
   "outputs": [
    {
     "data": {
      "text/html": [
       "<div>\n",
       "<style scoped>\n",
       "    .dataframe tbody tr th:only-of-type {\n",
       "        vertical-align: middle;\n",
       "    }\n",
       "\n",
       "    .dataframe tbody tr th {\n",
       "        vertical-align: top;\n",
       "    }\n",
       "\n",
       "    .dataframe thead th {\n",
       "        text-align: right;\n",
       "    }\n",
       "</style>\n",
       "<table border=\"1\" class=\"dataframe\">\n",
       "  <thead>\n",
       "    <tr style=\"text-align: right;\">\n",
       "      <th></th>\n",
       "      <th>values</th>\n",
       "      <th>usage</th>\n",
       "    </tr>\n",
       "  </thead>\n",
       "  <tbody>\n",
       "    <tr>\n",
       "      <th>1</th>\n",
       "      <td>v</td>\n",
       "      <td>All purpose</td>\n",
       "    </tr>\n",
       "    <tr>\n",
       "      <th>2</th>\n",
       "      <td>i</td>\n",
       "      <td>stastical</td>\n",
       "    </tr>\n",
       "    <tr>\n",
       "      <th>3</th>\n",
       "      <td>j</td>\n",
       "      <td>base</td>\n",
       "    </tr>\n",
       "    <tr>\n",
       "      <th>4</th>\n",
       "      <td>a</td>\n",
       "      <td>app</td>\n",
       "    </tr>\n",
       "    <tr>\n",
       "      <th>5</th>\n",
       "      <td>y</td>\n",
       "      <td>web</td>\n",
       "    </tr>\n",
       "    <tr>\n",
       "      <th>6</th>\n",
       "      <td>a</td>\n",
       "      <td>ai</td>\n",
       "    </tr>\n",
       "    <tr>\n",
       "      <th>7</th>\n",
       "      <td>vijaya</td>\n",
       "      <td>ml</td>\n",
       "    </tr>\n",
       "  </tbody>\n",
       "</table>\n",
       "</div>"
      ],
      "text/plain": [
       "   values        usage\n",
       "1       v  All purpose\n",
       "2       i    stastical\n",
       "3       j         base\n",
       "4       a          app\n",
       "5       y          web\n",
       "6       a           ai\n",
       "7  vijaya           ml"
      ]
     },
     "execution_count": 27,
     "metadata": {},
     "output_type": "execute_result"
    }
   ],
   "source": [
    "df1"
   ]
  },
  {
   "cell_type": "code",
   "execution_count": 28,
   "id": "2183d371",
   "metadata": {},
   "outputs": [],
   "source": [
    "Fruits={\"seed\":{1:\"orange\",2:\"apple\",3:\"watermelon\"},\"seedless\":{1:\"grapes\",2:\"pineapple\",3:\"papaya\"}}"
   ]
  },
  {
   "cell_type": "code",
   "execution_count": 32,
   "id": "61922184",
   "metadata": {},
   "outputs": [],
   "source": [
    "df2=pd.DataFrame(Fruits,columns=[\"seed\",\"seedless\"])"
   ]
  },
  {
   "cell_type": "code",
   "execution_count": 33,
   "id": "4f1623f0",
   "metadata": {},
   "outputs": [
    {
     "data": {
      "text/html": [
       "<div>\n",
       "<style scoped>\n",
       "    .dataframe tbody tr th:only-of-type {\n",
       "        vertical-align: middle;\n",
       "    }\n",
       "\n",
       "    .dataframe tbody tr th {\n",
       "        vertical-align: top;\n",
       "    }\n",
       "\n",
       "    .dataframe thead th {\n",
       "        text-align: right;\n",
       "    }\n",
       "</style>\n",
       "<table border=\"1\" class=\"dataframe\">\n",
       "  <thead>\n",
       "    <tr style=\"text-align: right;\">\n",
       "      <th></th>\n",
       "      <th>seed</th>\n",
       "      <th>seedless</th>\n",
       "    </tr>\n",
       "  </thead>\n",
       "  <tbody>\n",
       "    <tr>\n",
       "      <th>1</th>\n",
       "      <td>orange</td>\n",
       "      <td>grapes</td>\n",
       "    </tr>\n",
       "    <tr>\n",
       "      <th>2</th>\n",
       "      <td>apple</td>\n",
       "      <td>pineapple</td>\n",
       "    </tr>\n",
       "    <tr>\n",
       "      <th>3</th>\n",
       "      <td>watermelon</td>\n",
       "      <td>papaya</td>\n",
       "    </tr>\n",
       "  </tbody>\n",
       "</table>\n",
       "</div>"
      ],
      "text/plain": [
       "         seed   seedless\n",
       "1      orange     grapes\n",
       "2       apple  pineapple\n",
       "3  watermelon     papaya"
      ]
     },
     "execution_count": 33,
     "metadata": {},
     "output_type": "execute_result"
    }
   ],
   "source": [
    "df2"
   ]
  },
  {
   "cell_type": "markdown",
   "id": "34d927bb",
   "metadata": {},
   "source": [
    "# Activity 1"
   ]
  },
  {
   "cell_type": "raw",
   "id": "b637daca",
   "metadata": {},
   "source": [
    "create a data frame for your class ,containing \"name\",\"regno\",\"year of study\" as column names for 5 students"
   ]
  },
  {
   "cell_type": "code",
   "execution_count": 34,
   "id": "c26b1165",
   "metadata": {},
   "outputs": [],
   "source": [
    "Students={\"Name\":{1:\"viji\",2:\"kamali\",3:\"khatija\",4:\"sri\",5:\"thenu\"},\"regno\":{1:\"122011012836\",2:\"122011012803\",3:\"122011012817\",4:\"123012070001\",5:\"122011012813\"},\"year of study\":{1:\"III\",2:\"III\",3:\"III\",4:\"III\",5:\"III\"}}"
   ]
  },
  {
   "cell_type": "code",
   "execution_count": 35,
   "id": "9d286b85",
   "metadata": {},
   "outputs": [],
   "source": [
    "df3=pd.DataFrame(Students,columns=[\"Name\",\"regno\",\"year of study\"])"
   ]
  },
  {
   "cell_type": "code",
   "execution_count": 36,
   "id": "4d80fdc0",
   "metadata": {},
   "outputs": [
    {
     "data": {
      "text/html": [
       "<div>\n",
       "<style scoped>\n",
       "    .dataframe tbody tr th:only-of-type {\n",
       "        vertical-align: middle;\n",
       "    }\n",
       "\n",
       "    .dataframe tbody tr th {\n",
       "        vertical-align: top;\n",
       "    }\n",
       "\n",
       "    .dataframe thead th {\n",
       "        text-align: right;\n",
       "    }\n",
       "</style>\n",
       "<table border=\"1\" class=\"dataframe\">\n",
       "  <thead>\n",
       "    <tr style=\"text-align: right;\">\n",
       "      <th></th>\n",
       "      <th>Name</th>\n",
       "      <th>regno</th>\n",
       "      <th>year of study</th>\n",
       "    </tr>\n",
       "  </thead>\n",
       "  <tbody>\n",
       "    <tr>\n",
       "      <th>1</th>\n",
       "      <td>viji</td>\n",
       "      <td>122011012836</td>\n",
       "      <td>III</td>\n",
       "    </tr>\n",
       "    <tr>\n",
       "      <th>2</th>\n",
       "      <td>kamali</td>\n",
       "      <td>122011012803</td>\n",
       "      <td>III</td>\n",
       "    </tr>\n",
       "    <tr>\n",
       "      <th>3</th>\n",
       "      <td>khatija</td>\n",
       "      <td>122011012817</td>\n",
       "      <td>III</td>\n",
       "    </tr>\n",
       "    <tr>\n",
       "      <th>4</th>\n",
       "      <td>sri</td>\n",
       "      <td>123012070001</td>\n",
       "      <td>III</td>\n",
       "    </tr>\n",
       "    <tr>\n",
       "      <th>5</th>\n",
       "      <td>thenu</td>\n",
       "      <td>122011012813</td>\n",
       "      <td>III</td>\n",
       "    </tr>\n",
       "  </tbody>\n",
       "</table>\n",
       "</div>"
      ],
      "text/plain": [
       "      Name         regno year of study\n",
       "1     viji  122011012836           III\n",
       "2   kamali  122011012803           III\n",
       "3  khatija  122011012817           III\n",
       "4      sri  123012070001           III\n",
       "5    thenu  122011012813           III"
      ]
     },
     "execution_count": 36,
     "metadata": {},
     "output_type": "execute_result"
    }
   ],
   "source": [
    "df3"
   ]
  },
  {
   "cell_type": "code",
   "execution_count": 41,
   "id": "291eb97c",
   "metadata": {},
   "outputs": [
    {
     "data": {
      "text/html": [
       "<div>\n",
       "<style scoped>\n",
       "    .dataframe tbody tr th:only-of-type {\n",
       "        vertical-align: middle;\n",
       "    }\n",
       "\n",
       "    .dataframe tbody tr th {\n",
       "        vertical-align: top;\n",
       "    }\n",
       "\n",
       "    .dataframe thead th {\n",
       "        text-align: right;\n",
       "    }\n",
       "</style>\n",
       "<table border=\"1\" class=\"dataframe\">\n",
       "  <thead>\n",
       "    <tr style=\"text-align: right;\">\n",
       "      <th></th>\n",
       "      <th>seed</th>\n",
       "      <th>seedless</th>\n",
       "    </tr>\n",
       "  </thead>\n",
       "  <tbody>\n",
       "    <tr>\n",
       "      <th>1</th>\n",
       "      <td>orange</td>\n",
       "      <td>grapes</td>\n",
       "    </tr>\n",
       "    <tr>\n",
       "      <th>2</th>\n",
       "      <td>apple</td>\n",
       "      <td>pineapple</td>\n",
       "    </tr>\n",
       "  </tbody>\n",
       "</table>\n",
       "</div>"
      ],
      "text/plain": [
       "     seed   seedless\n",
       "1  orange     grapes\n",
       "2   apple  pineapple"
      ]
     },
     "execution_count": 41,
     "metadata": {},
     "output_type": "execute_result"
    }
   ],
   "source": [
    "df2.drop(3,axis=0)"
   ]
  },
  {
   "cell_type": "raw",
   "id": "725e7d48",
   "metadata": {},
   "source": [
    "row:axis=0\n",
    "column:axis=1"
   ]
  },
  {
   "cell_type": "code",
   "execution_count": null,
   "id": "8cadaf06",
   "metadata": {},
   "outputs": [],
   "source": []
  }
 ],
 "metadata": {
  "kernelspec": {
   "display_name": "Python 3 (ipykernel)",
   "language": "python",
   "name": "python3"
  },
  "language_info": {
   "codemirror_mode": {
    "name": "ipython",
    "version": 3
   },
   "file_extension": ".py",
   "mimetype": "text/x-python",
   "name": "python",
   "nbconvert_exporter": "python",
   "pygments_lexer": "ipython3",
   "version": "3.11.5"
  }
 },
 "nbformat": 4,
 "nbformat_minor": 5
}
